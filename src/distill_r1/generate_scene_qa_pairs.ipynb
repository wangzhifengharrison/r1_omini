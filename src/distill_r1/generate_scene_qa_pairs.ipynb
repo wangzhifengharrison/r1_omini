{
 "cells": [
  {
   "cell_type": "code",
   "execution_count": 1,
   "id": "3a704ea6-2e61-4aaa-97aa-416579c9bc13",
   "metadata": {},
   "outputs": [],
   "source": [
    "import json\n",
    "import random"
   ]
  },
  {
   "cell_type": "code",
   "execution_count": 4,
   "id": "c4920a8f-cddd-4063-8cab-215d238b5dad",
   "metadata": {},
   "outputs": [
    {
     "name": "stdout",
     "output_type": "stream",
     "text": [
      "CLEVR_trainA_scenes.json  CLEVR_valA_scenes.json  CLEVR_valB_scenes.json\n"
     ]
    }
   ],
   "source": [
    "!ls CLEVR_CoGenT_v1.0/scenes"
   ]
  },
  {
   "cell_type": "code",
   "execution_count": 15,
   "id": "934fa005-3b2a-43ed-8a71-6a12b7579546",
   "metadata": {},
   "outputs": [],
   "source": [
    "split = \"valB\"\n",
    "clevr_train_json = f\"CLEVR_CoGenT_v1.0/scenes/CLEVR_{split}_scenes.json\"\n",
    "train_qs = f\"CLEVR_CoGenT_v1.0/questions/CLEVR_{split}_questions.json\"\n",
    "data = json.load(open(clevr_train_json))\n",
    "qs = json.load(open(train_qs))"
   ]
  },
  {
   "cell_type": "code",
   "execution_count": 16,
   "id": "1f0d6180-94c4-4aea-bd2b-8d5cfeb0aecb",
   "metadata": {},
   "outputs": [
    {
     "name": "stdout",
     "output_type": "stream",
     "text": [
      "[{'pixel_coords': [343, 131, 11.278693199157715], 'size': 'small', 'color': 'green', 'material': 'metal', 'shape': 'sphere', '3d_coords': [0.9906095862388611, 2.083291530609131, 0.3499999940395355], 'rotation': 107.73596690369371}, {'pixel_coords': [396, 172, 9.857704162597656], 'size': 'small', 'color': 'cyan', 'material': 'rubber', 'shape': 'sphere', '3d_coords': [2.69626522064209, 1.5257188081741333, 0.3499999940395355], 'rotation': 305.3536122513589}, {'pixel_coords': [115, 182, 8.91348934173584], 'size': 'large', 'color': 'yellow', 'material': 'rubber', 'shape': 'cylinder', '3d_coords': [0.049163494259119034, -2.864100217819214, 0.699999988079071], 'rotation': 161.8370138842408}, {'pixel_coords': [203, 131, 10.548327445983887], 'size': 'large', 'color': 'purple', 'material': 'rubber', 'shape': 'cube', '3d_coords': [-0.4719269275665283, -0.5699371695518494, 0.699999988079071], 'rotation': 159.41862667811446}, {'pixel_coords': [253, 75, 13.141877174377441], 'size': 'large', 'color': 'red', 'material': 'rubber', 'shape': 'cube', '3d_coords': [-2.036878824234009, 2.222999334335327, 0.699999988079071], 'rotation': 37.40490732771224}]\n",
      "len:  5\n"
     ]
    }
   ],
   "source": [
    "print(data['scenes'][0]['objects'])\n",
    "print(\"len: \", len(data['scenes'][0]['objects']))"
   ]
  },
  {
   "cell_type": "code",
   "execution_count": 17,
   "id": "7c828ca4-08f9-4927-a745-224a95379c2f",
   "metadata": {},
   "outputs": [],
   "source": [
    "def object_info_to_description(object_list):\n",
    "    descriptions = []\n",
    "    random.shuffle(object_list)\n",
    "    for obj in object_list:\n",
    "        desc = f\"A {obj['size']} {obj['color']} {obj['material']} {obj['shape']}\"\n",
    "        desc += f\" rotated {obj['rotation']:.1f}° located at\"\n",
    "        desc += f\" 3D coordinates ({obj['3d_coords'][0]:.2f}, {obj['3d_coords'][1]:.2f}, {obj['3d_coords'][2]:.2f})\"\n",
    "        desc += f\" and pixel coordinates ({obj['pixel_coords'][0]}, {obj['pixel_coords'][1]}, {obj['pixel_coords'][2]:.2f})\"\n",
    "        descriptions.append(desc)\n",
    "    \n",
    "    final_description = \"Scene Description:\\n\"\n",
    "    for i, desc in enumerate(descriptions, 1):\n",
    "        final_description += f\"{desc}\\n\"\n",
    "    \n",
    "    return final_description"
   ]
  },
  {
   "cell_type": "code",
   "execution_count": 18,
   "id": "cb048e25-d554-4bd7-bf11-878e071b5987",
   "metadata": {},
   "outputs": [
    {
     "data": {
      "text/plain": [
       "'Scene Description:\\nA large yellow rubber cylinder rotated 161.8° located at 3D coordinates (0.05, -2.86, 0.70) and pixel coordinates (115, 182, 8.91)\\nA large purple rubber cube rotated 159.4° located at 3D coordinates (-0.47, -0.57, 0.70) and pixel coordinates (203, 131, 10.55)\\nA large red rubber cube rotated 37.4° located at 3D coordinates (-2.04, 2.22, 0.70) and pixel coordinates (253, 75, 13.14)\\nA small green metal sphere rotated 107.7° located at 3D coordinates (0.99, 2.08, 0.35) and pixel coordinates (343, 131, 11.28)\\nA small cyan rubber sphere rotated 305.4° located at 3D coordinates (2.70, 1.53, 0.35) and pixel coordinates (396, 172, 9.86)\\n'"
      ]
     },
     "execution_count": 18,
     "metadata": {},
     "output_type": "execute_result"
    }
   ],
   "source": [
    "object_info_to_description(data['scenes'][0]['objects'])"
   ]
  },
  {
   "cell_type": "code",
   "execution_count": 19,
   "id": "ffacd5f3-e9a4-46ca-8c50-187ab12c9f1b",
   "metadata": {},
   "outputs": [],
   "source": [
    "img2obj_dict = {}\n",
    "for scene in data['scenes']:\n",
    "    obj_list = scene['objects']\n",
    "    img2obj_dict[scene['image_filename']] = obj_list"
   ]
  },
  {
   "cell_type": "code",
   "execution_count": 20,
   "id": "db35f03c-1529-4776-bf4f-3bd44e960e5f",
   "metadata": {},
   "outputs": [
    {
     "data": {
      "text/plain": [
       "{'question_index': 0,\n",
       " 'question_family_index': 29,\n",
       " 'image_index': 0,\n",
       " 'question': 'The big thing that is in front of the large rubber cube in front of the small thing that is behind the tiny matte ball is what color?',\n",
       " 'answer': 'yellow',\n",
       " 'image_filename': 'CLEVR_valB_000000.png',\n",
       " 'split': 'valB',\n",
       " 'program': [{'value_inputs': [], 'inputs': [], 'function': 'scene'},\n",
       "  {'value_inputs': ['small'], 'inputs': [0], 'function': 'filter_size'},\n",
       "  {'value_inputs': ['rubber'], 'inputs': [1], 'function': 'filter_material'},\n",
       "  {'value_inputs': ['sphere'], 'inputs': [2], 'function': 'filter_shape'},\n",
       "  {'value_inputs': [], 'inputs': [3], 'function': 'unique'},\n",
       "  {'value_inputs': ['behind'], 'inputs': [4], 'function': 'relate'},\n",
       "  {'value_inputs': ['small'], 'inputs': [5], 'function': 'filter_size'},\n",
       "  {'value_inputs': [], 'inputs': [6], 'function': 'unique'},\n",
       "  {'value_inputs': ['front'], 'inputs': [7], 'function': 'relate'},\n",
       "  {'value_inputs': ['large'], 'inputs': [8], 'function': 'filter_size'},\n",
       "  {'value_inputs': ['rubber'], 'inputs': [9], 'function': 'filter_material'},\n",
       "  {'value_inputs': ['cube'], 'inputs': [10], 'function': 'filter_shape'},\n",
       "  {'value_inputs': [], 'inputs': [11], 'function': 'unique'},\n",
       "  {'value_inputs': ['front'], 'inputs': [12], 'function': 'relate'},\n",
       "  {'value_inputs': ['large'], 'inputs': [13], 'function': 'filter_size'},\n",
       "  {'value_inputs': [], 'inputs': [14], 'function': 'unique'},\n",
       "  {'value_inputs': [], 'inputs': [15], 'function': 'query_color'}]}"
      ]
     },
     "execution_count": 20,
     "metadata": {},
     "output_type": "execute_result"
    }
   ],
   "source": [
    "qs['questions'][0]"
   ]
  },
  {
   "cell_type": "code",
   "execution_count": 21,
   "id": "66b746fc-569c-4922-a442-79dbbc09e33b",
   "metadata": {},
   "outputs": [],
   "source": [
    "random.shuffle(qs['questions'])\n",
    "cnt = 0 \n",
    "qa_pairs = [] \n",
    "added_pair = set()\n",
    "for qd in qs['questions']:\n",
    "    img_idx = qd['image_filename']\n",
    "    total_count = len(img2obj_dict[img_idx]) # object list length\n",
    "    desc = object_info_to_description(img2obj_dict[img_idx])\n",
    "    question, answer = qd['question'], qd['answer']\n",
    "    if 'how many' in question.lower() or 'number' in question.lower():\n",
    "        qa_pairs.append({\n",
    "            \"img_filename\": img_idx,\n",
    "            'q': question,\n",
    "            'a': answer,\n",
    "            'description': desc \n",
    "        })\n",
    "        if img_idx not in added_pair:\n",
    "            qa_pairs.append({\n",
    "                \"img_filename\": img_idx,\n",
    "                'q': \"How many items are there in the described scene?\",\n",
    "                'a': total_count,\n",
    "                'description': desc \n",
    "            })\n",
    "            added_pair.add(img_idx)\n"
   ]
  },
  {
   "cell_type": "code",
   "execution_count": 22,
   "id": "c271fa7b-fed5-472f-a302-6ec203c4b787",
   "metadata": {},
   "outputs": [
    {
     "data": {
      "text/plain": [
       "59978"
      ]
     },
     "execution_count": 22,
     "metadata": {},
     "output_type": "execute_result"
    }
   ],
   "source": [
    "len(qa_pairs)"
   ]
  },
  {
   "cell_type": "code",
   "execution_count": 23,
   "id": "b0da8a70-c3f5-4e48-b384-3684933d72ef",
   "metadata": {},
   "outputs": [
    {
     "data": {
      "text/plain": [
       "14884"
      ]
     },
     "execution_count": 23,
     "metadata": {},
     "output_type": "execute_result"
    }
   ],
   "source": [
    "len(added_pair)"
   ]
  },
  {
   "cell_type": "code",
   "execution_count": 24,
   "id": "c648587e-2ec0-427c-b594-f55dd187b4d9",
   "metadata": {},
   "outputs": [],
   "source": [
    "# save for later loading\n",
    "with open(f\"clever_counting_problems_clevr_cogent_v1.0_{split}.json\", 'w') as fw:\n",
    "    json.dump( qa_pairs, fw, indent=4)"
   ]
  },
  {
   "cell_type": "code",
   "execution_count": 20,
   "id": "b3a8cbe4-4261-41d3-a481-43a0b1cc2795",
   "metadata": {},
   "outputs": [],
   "source": [
    "random.shuffle(qa_pairs)"
   ]
  },
  {
   "cell_type": "code",
   "execution_count": 57,
   "id": "d6dff4e7-65dd-4e82-82df-340ec2a57919",
   "metadata": {},
   "outputs": [
    {
     "data": {
      "text/plain": [
       "[{'img_filename': 'CLEVR_trainA_048403.png',\n",
       "  'q': 'How many things are both on the right side of the big yellow rubber thing and left of the purple ball?',\n",
       "  'a': '5',\n",
       "  'description': 'Scene Description:\\nA large red rubber cylinder rotated 291.3° located at 3D coordinates (-0.89, -2.73, 0.70) and pixel coordinates (101, 152, 10.04)\\nA small purple metal sphere rotated 247.7° located at 3D coordinates (2.93, 0.87, 0.35) and pixel coordinates (379, 183, 9.66)\\nA large cyan rubber cylinder rotated 114.5° located at 3D coordinates (-2.40, 2.23, 0.70) and pixel coordinates (246, 82, 13.94)\\nA small red metal cylinder rotated 109.9° located at 3D coordinates (-0.95, 1.77, 0.35) and pixel coordinates (270, 113, 12.83)\\nA small red rubber cylinder rotated 343.7° located at 3D coordinates (-0.12, -0.74, 0.35) and pixel coordinates (209, 153, 10.82)\\nA large red rubber cylinder rotated 324.5° located at 3D coordinates (-2.71, -2.21, 0.70) and pixel coordinates (84, 119, 11.59)\\nA small red metal cylinder rotated 1.1° located at 3D coordinates (2.88, -0.12, 0.35) and pixel coordinates (342, 200, 9.12)\\nA small gray rubber cube rotated 144.9° located at 3D coordinates (0.79, 0.98, 0.35) and pixel coordinates (299, 145, 11.19)\\nA large yellow rubber cube rotated 90.0° located at 3D coordinates (-1.78, -0.31, 0.70) and pixel coordinates (180, 110, 12.05)\\n'},\n",
       " {'img_filename': 'CLEVR_trainA_048403.png',\n",
       "  'q': 'How many items are there in the described scene?',\n",
       "  'a': 9,\n",
       "  'description': 'Scene Description:\\nA large red rubber cylinder rotated 291.3° located at 3D coordinates (-0.89, -2.73, 0.70) and pixel coordinates (101, 152, 10.04)\\nA small purple metal sphere rotated 247.7° located at 3D coordinates (2.93, 0.87, 0.35) and pixel coordinates (379, 183, 9.66)\\nA large cyan rubber cylinder rotated 114.5° located at 3D coordinates (-2.40, 2.23, 0.70) and pixel coordinates (246, 82, 13.94)\\nA small red metal cylinder rotated 109.9° located at 3D coordinates (-0.95, 1.77, 0.35) and pixel coordinates (270, 113, 12.83)\\nA small red rubber cylinder rotated 343.7° located at 3D coordinates (-0.12, -0.74, 0.35) and pixel coordinates (209, 153, 10.82)\\nA large red rubber cylinder rotated 324.5° located at 3D coordinates (-2.71, -2.21, 0.70) and pixel coordinates (84, 119, 11.59)\\nA small red metal cylinder rotated 1.1° located at 3D coordinates (2.88, -0.12, 0.35) and pixel coordinates (342, 200, 9.12)\\nA small gray rubber cube rotated 144.9° located at 3D coordinates (0.79, 0.98, 0.35) and pixel coordinates (299, 145, 11.19)\\nA large yellow rubber cube rotated 90.0° located at 3D coordinates (-1.78, -0.31, 0.70) and pixel coordinates (180, 110, 12.05)\\n'}]"
      ]
     },
     "execution_count": 57,
     "metadata": {},
     "output_type": "execute_result"
    }
   ],
   "source": [
    "qa_pairs[:2]"
   ]
  },
  {
   "cell_type": "code",
   "execution_count": 26,
   "id": "a6a66364-5b47-4138-91d6-a045404d21b1",
   "metadata": {},
   "outputs": [],
   "source": [
    "def query_r1(query='who are you?', model=\"deepseek-ai/DeepSeek-R1\"):\n",
    "    # Create the chat completion\n",
    "    response = client.chat.completions.create(\n",
    "        model=model,\n",
    "         messages=[\n",
    "            {'role': 'user', \n",
    "            'content': query}\n",
    "        ],\n",
    "        stream=False,\n",
    "    )\n",
    "    # Print the response\n",
    "    return response.choices[0].message.content"
   ]
  },
  {
   "cell_type": "code",
   "execution_count": 44,
   "id": "e5d5649f-c4e3-4f3f-b76e-7f7ed27f68e8",
   "metadata": {},
   "outputs": [],
   "source": [
    "def format_query(qa_dict):\n",
    "    query = \"Answer the question according to scene description.\\n\\n\"\n",
    "    query += qa_dict['description']\n",
    "    query += f\"\\nQuestion:\\n{qa_dict['q']}\"\n",
    "    return query \n",
    "    "
   ]
  },
  {
   "cell_type": "code",
   "execution_count": 39,
   "id": "7f568a4e-f217-464a-8329-bbefb64d9653",
   "metadata": {},
   "outputs": [
    {
     "name": "stdout",
     "output_type": "stream",
     "text": [
      "<think>Okay, let's see. The user is asking how many items are there in the described scene. Let me go through the scene description step by step.\n",
      "\n",
      "So, the scene description lists each object with details like color, material, shape, rotation, 3D coordinates, and pixel coordinates. Each entry starts with \"A\" which usually indicates one item each. Let me count each one.\n",
      "\n",
      "First entry: \"A small green metal cylinder...\" That's one. Second: \"A small blue rubber cylinder...\" Second item. Third: \"A small cyan rubber cylinder...\" That's three. Fourth: \"A large cyan metal sphere...\" Four. Fifth: \"A large brown metal cube...\" Five. Sixth: \"A large yellow rubber cube...\" Six. Seventh: \"A large brown rubber cylinder...\" That's seven. \n",
      "\n",
      "Wait, did I miss any? Let me check again. The list has entries from \"A small green...\" up to the seventh one. Each sentence starts with \"A\", which suggests each is a separate item. No commas separating multiple items in a single entry. Each has different attributes and coordinates, so they must all be distinct. \n",
      "\n",
      "So the answer should be 7 items.\n",
      "</think>\n",
      "\n",
      "There are 7 items in the described scene. Each entry corresponds to one distinct object, listed by their properties, coordinates, and rotations.\n",
      "None\n"
     ]
    }
   ],
   "source": [
    "debug_query = format_query(qa_pairs[0])\n",
    "print(query_r1(debug_query))"
   ]
  },
  {
   "cell_type": "code",
   "execution_count": 41,
   "id": "cdc4231a-8ef4-4cf6-a575-d84ae7bbd0b5",
   "metadata": {},
   "outputs": [
    {
     "name": "stdout",
     "output_type": "stream",
     "text": [
      "Answer the question accordingly to scene description.\n",
      "\n",
      "Scene Description:\n",
      "A small green metal cylinder rotated 329.5° located at 3D coordinates (-2.49, -1.65, 0.35) and pixel coordinates (111, 132, 11.81)\n",
      "A small blue rubber cylinder rotated 312.2° located at 3D coordinates (-1.73, -2.91, 0.35) and pixel coordinates (76, 163, 10.57)\n",
      "A small cyan rubber cylinder rotated 48.4° located at 3D coordinates (-2.10, -0.22, 0.35) and pixel coordinates (172, 118, 12.41)\n",
      "A large cyan metal sphere rotated 27.4° located at 3D coordinates (1.52, -1.26, 0.70) and pixel coordinates (247, 181, 9.33)\n",
      "A large brown metal cube rotated 107.7° located at 3D coordinates (-0.73, 2.39, 0.70) and pixel coordinates (290, 92, 12.93)\n",
      "A large yellow rubber cube rotated 288.2° located at 3D coordinates (0.52, 0.63, 0.70) and pixel coordinates (279, 130, 11.09)\n",
      "A large brown rubber cylinder rotated 229.8° located at 3D coordinates (2.38, 0.38, 0.70) and pixel coordinates (343, 166, 9.77)\n",
      "\n",
      "Question:\n",
      "How many items are there in the described scene?\n"
     ]
    }
   ],
   "source": [
    "print(debug_query)"
   ]
  },
  {
   "cell_type": "code",
   "execution_count": 42,
   "id": "4cf90eb6-2cce-4e3d-8190-c44168a66dca",
   "metadata": {},
   "outputs": [
    {
     "data": {
      "text/plain": [
       "{'img_filename': 'CLEVR_train_044000.png',\n",
       " 'q': 'How many rubber objects are either small blue spheres or small things?',\n",
       " 'a': '2',\n",
       " 'description': 'Scene Description:\\nA large purple rubber sphere rotated 78.4° located at 3D coordinates (2.27, 0.87, 0.70) and pixel coordinates (360, 156, 9.49)\\nA large gray metal cube rotated 152.7° located at 3D coordinates (2.79, -1.26, 0.70) and pixel coordinates (301, 213, 7.91)\\nA large purple metal sphere rotated 79.2° located at 3D coordinates (-2.66, -2.74, 0.70) and pixel coordinates (51, 126, 10.61)\\nA large blue rubber sphere rotated 279.5° located at 3D coordinates (1.31, 2.72, 0.70) and pixel coordinates (376, 112, 11.19)\\nA small brown rubber cube rotated 124.1° located at 3D coordinates (-2.49, 2.61, 0.35) and pixel coordinates (251, 82, 13.79)\\nA small green rubber sphere rotated 323.9° located at 3D coordinates (-2.02, 0.45, 0.35) and pixel coordinates (197, 109, 12.22)\\n'}"
      ]
     },
     "execution_count": 42,
     "metadata": {},
     "output_type": "execute_result"
    }
   ],
   "source": [
    "qa_pairs[1]"
   ]
  },
  {
   "cell_type": "code",
   "execution_count": 45,
   "id": "33fcd4eb-1f33-47d4-a453-76ef00e6d5d3",
   "metadata": {},
   "outputs": [
    {
     "name": "stdout",
     "output_type": "stream",
     "text": [
      "<think>Okay, let's tackle this question. The user wants to know how many rubber objects are either small blue spheres or small things. Hmm, first, I need to parse each part of the question correctly.\n",
      "\n",
      "Let's go back to the scene description. The objects are listed with their attributes: size, color, material, shape, rotation, 3D and pixel coordinates. The key here is to filter the objects based on the criteria given.\n",
      "\n",
      "The question has two parts: \"small blue spheres\" OR \"small things\". So any rubber object that is either a small blue sphere or any small thing (regardless of other attributes) counts. But wait, do both categories need to be rubber? Because the question says \"rubber objects are either...\". So rubber is the material, and the condition is either being a small blue sphere or a small thing. So first, all rubber objects, and among them, count those that are either small blue spheres or small (regardless of color or shape). Wait, no. Let me re-read the question.\n",
      "\n",
      "The question is: \"How many rubber objects are either small blue spheres or small things?\" So rubber is the material. Within all rubber objects, count the ones that are either (1) small blue spheres OR (2) small things. Wait, does (2) being small things mean that even if they're small and of any color or shape, but they must be rubber?\n",
      "\n",
      "Yes, because the entire set is rubber objects. So first, select all objects where material is rubber. Then, within those, count how many are either (1) small, blue, sphere, or (2) small (any color or shape). Wait, but the structure is \"either X or Y\", where X is \"small blue sphere\" and Y is \"small things\". But \"small things\" would include all small objects, regardless of color and shape. However, since we've already narrowed it to rubber objects, \"small things\" here would be small rubber objects, regardless of color and shape.\n",
      "\n",
      "But wait, the condition is within rubber objects. So for the first part, small blue spheres (must check size, color, shape) and for the second part, small things (size is small, any color and shape, but since material is already rubber, that's covered). But wait, does the OR merge the two conditions, leading to rubber objects that are either (small blue spheres) or (small any-color any-shape).\n",
      "\n",
      "So the combined condition is: object is rubber AND ( (is small AND blue AND sphere) OR (is small) ). Wait, but if the condition for the second part is just \"small things\", which would imply any small object. But the entire group is rubber objects. So it's rubber objects that are small blue spheres OR rubber objects that are small (regardless of color or shape).\n",
      "\n",
      "Wait, no. Let's parse the sentence again: \"rubber objects are either small blue spheres or small things\". The \"either/or\" applies to \"small blue spheres\" and \"small things\". So, each rubber object has to be either (a small blue sphere) or (a small thing). However, \"small things\" here might refer to any small object regardless of other attributes. So if a rubber object is small, regardless of color or shape, it counts. But then, the first condition (small blue sphere) would also satisfy being a small thing. Wait, so there's an overlap. But when dealing with OR conditions, we have to avoid double-counting. So, the actual count is the number of small rubber objects (since any small rubber object is covered by the second part, which includes all small rubber objects, whether blue spheres or not) plus any objects that are small blue spheres but not rubber? But no, the question specifies \"rubber objects\", so we can ignore non-rubber ones.\n",
      "\n",
      "Wait, perhaps the wording is: \"rubber objects that are either small blue spheres or small things\". So \"small things\" here must reference other attributes. Wait, maybe there's ambiguity here. If the user is grouping \"small things\" as a separate category, regardless of being the other attributes. Let me try to approach this step by step.\n",
      "\n",
      "First, list all the rubber objects from the scene description:\n",
      "\n",
      "Looking through the list:\n",
      "\n",
      "1. A large purple rubber sphere ... location etc.\n",
      "So material rubber, large, purple, sphere.\n",
      "\n",
      "2. A large gray metal cube ... metal, so not rubber.\n",
      "\n",
      "3. A large purple metal sphere ... metal, not rubber.\n",
      "\n",
      "4. A large blue rubber sphere ... rubber, large, blue, sphere.\n",
      "\n",
      "5. A small brown rubber cube ... rubber, small, brown, cube.\n",
      "\n",
      "6. A small green rubber sphere ... rubber, small, green, sphere.\n",
      "\n",
      "So the rubber objects are items 1,4,5,6.\n",
      "\n",
      "Now, for each of these four rubber objects, check if they are either (small blue sphere) or (small things).\n",
      "\n",
      "Let's check each:\n",
      "\n",
      "1. Large purple rubber sphere. Size: large. So for the first condition (small blue sphere): no. For the second condition (small thing): size large, so no. Not included.\n",
      "\n",
      "4. Large blue rubber sphere. Large. So, even though it's blue and sphere, the size is large. So (small blue sphere: no, since size is large). (small thing: no.) So not included.\n",
      "\n",
      "5. Small brown rubber cube. Size is small. So regardless of color and shape (brown, cube), this is a small thing. So it meets the second condition. So count it.\n",
      "\n",
      "6. Small green rubber sphere. Size: small. So meets the second condition (small thing). But it's a sphere and green, not blue. So this counts under the second category.\n",
      "\n",
      "Now, what about the first condition: small blue spheres. Are there any rubber objects that are small blue spheres? The only blue rubber sphere is item 4, which is large. So none of the rubber objects are small blue spheres.\n",
      "\n",
      "So now the two options under the OR are:\n",
      "\n",
      "- small blue sphere (none found)\n",
      "- small things (items 5 and 6), both are rubber.\n",
      "\n",
      "Therefore total count is 0 + 2 = 2.\n",
      "\n",
      "Wait, but the initial question is: number of rubber objects that are either (small blue spheres) or (small things). Since \"small blue spheres\" are a subset of \"small things\" (since if something is a small blue sphere, it is a small thing). Therefore if there were any such objects, they would be counted twice, but in this case, since there are none, the total is just the count of small things.\n",
      "\n",
      "But according to the data, the rubber objects that are small are two: item 5 (small brown cube) and item 6 (small green sphere). Neither is a blue sphere, so no overlap. Therefore, sum is 2.\n",
      "\n",
      "So the answer should be 2.\n",
      "\n",
      "I need to confirm again whether the OR condition includes the union, meaning any rubber object that is either condition. So if either condition is true, count it.\n",
      "\n",
      "Since both 5 and 6 are small, even though they aren't blue spheres, they belong to the second category (small things). The blue sphere (if it were small) would have been counted as well. But in this case, the valid counts are 5 and 6. So yes, answer is 2.\n",
      "</think>\n",
      "\n",
      "The answer is 2. \n",
      "\n",
      "**Explanation:**\n",
      "First, identify all rubber objects from the scene description:\n",
      "1. Large purple rubber sphere (not small)\n",
      "2. Large blue rubber sphere (not small)\n",
      "3. Small brown rubber cube (small)\n",
      "4. Small green rubber sphere (small)\n",
      "\n",
      "Next, apply the criteria:\n",
      "- **Small blue spheres**: None of the rubber objects meet this (the only blue rubber sphere is large).\n",
      "- **Small rubber objects (regardless of color/shape)**: The small brown rubber cube and small green rubber sphere qualify (2 objects).\n",
      "\n",
      "Thus, there are **2 rubber objects** that fit either criterion.\n"
     ]
    }
   ],
   "source": [
    "debug_query1 = format_query(qa_pairs[1])\n",
    "res1 = query_r1(debug_query1)"
   ]
  },
  {
   "cell_type": "code",
   "execution_count": 47,
   "id": "8e516bd0-f1e5-4898-88a3-3afcaf0ae34e",
   "metadata": {},
   "outputs": [
    {
     "data": {
      "text/plain": [
       "{'img_filename': 'CLEVR_train_044000.png',\n",
       " 'q': 'How many rubber objects are either small blue spheres or small things?',\n",
       " 'a': '2',\n",
       " 'description': 'Scene Description:\\nA large purple rubber sphere rotated 78.4° located at 3D coordinates (2.27, 0.87, 0.70) and pixel coordinates (360, 156, 9.49)\\nA large gray metal cube rotated 152.7° located at 3D coordinates (2.79, -1.26, 0.70) and pixel coordinates (301, 213, 7.91)\\nA large purple metal sphere rotated 79.2° located at 3D coordinates (-2.66, -2.74, 0.70) and pixel coordinates (51, 126, 10.61)\\nA large blue rubber sphere rotated 279.5° located at 3D coordinates (1.31, 2.72, 0.70) and pixel coordinates (376, 112, 11.19)\\nA small brown rubber cube rotated 124.1° located at 3D coordinates (-2.49, 2.61, 0.35) and pixel coordinates (251, 82, 13.79)\\nA small green rubber sphere rotated 323.9° located at 3D coordinates (-2.02, 0.45, 0.35) and pixel coordinates (197, 109, 12.22)\\n'}"
      ]
     },
     "execution_count": 47,
     "metadata": {},
     "output_type": "execute_result"
    }
   ],
   "source": [
    "qa_pairs[1]"
   ]
  },
  {
   "cell_type": "code",
   "execution_count": null,
   "id": "92784518-49e2-443d-9541-2785cbb944cf",
   "metadata": {},
   "outputs": [],
   "source": []
  }
 ],
 "metadata": {
  "kernelspec": {
   "display_name": "Python 3 (ipykernel)",
   "language": "python",
   "name": "python3"
  },
  "language_info": {
   "codemirror_mode": {
    "name": "ipython",
    "version": 3
   },
   "file_extension": ".py",
   "mimetype": "text/x-python",
   "name": "python",
   "nbconvert_exporter": "python",
   "pygments_lexer": "ipython3",
   "version": "3.12.2"
  }
 },
 "nbformat": 4,
 "nbformat_minor": 5
}
